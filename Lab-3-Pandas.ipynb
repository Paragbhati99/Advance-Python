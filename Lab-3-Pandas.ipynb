{
 "cells": [
  {
   "cell_type": "markdown",
   "metadata": {},
   "source": [
    "Lab-3 Pandas"
   ]
  },
  {
   "cell_type": "code",
   "execution_count": 1,
   "metadata": {},
   "outputs": [
    {
     "name": "stdout",
     "output_type": "stream",
     "text": [
      "Exam Scores Data:\n",
      "Alice      92\n",
      "Bob        88\n",
      "Charlie    76\n",
      "David      94\n",
      "Eve        82\n",
      "Frank      90\n",
      "Grace      85\n",
      "Hannah     89\n",
      "Ivy        78\n",
      "Jack       91\n",
      "Name: Exam Scores, dtype: int64\n",
      "\n",
      "Basic Analysis:\n",
      "Average Score: 86.50\n",
      "Maximum Score: 94 (by David)\n",
      "Minimum Score: 76 (by Charlie)\n",
      "Score Range: 18\n",
      "Standard Deviation: 6.08\n"
     ]
    }
   ],
   "source": [
    "import pandas as pd\n",
    "\n",
    "'''Lab1: Suppose you are a teacher, and you want to analyze the exam scores of your students in a particular subject. \n",
    "You have recorded the scores of your students for a recent exam, and you want to represent this data using a Pandas Series.'''\n",
    "#Input:\n",
    "students = ['Alice', 'Bob', 'Charlie', 'David', 'Eve', 'Frank', 'Grace', 'Hannah', 'Ivy', 'Jack'] \n",
    "exam_scores = [92, 88, 76, 94, 82, 90, 85, 89, 78, 91]\n",
    "\n",
    "# Create a Pandas Series\n",
    "exam_series = pd.Series(exam_scores, index=students, name=\"Exam Scores\")\n",
    "\n",
    "# Display the Series\n",
    "print(\"Exam Scores Data:\")\n",
    "print(exam_series)\n",
    "\n",
    "# Basic analysis\n",
    "print(\"\\nBasic Analysis:\")\n",
    "print(f\"Average Score: {exam_series.mean():.2f}\")\n",
    "print(f\"Maximum Score: {exam_series.max()} (by {exam_series.idxmax()})\")\n",
    "print(f\"Minimum Score: {exam_series.min()} (by {exam_series.idxmin()})\")\n",
    "print(f\"Score Range: {exam_series.max() - exam_series.min()}\")\n",
    "print(f\"Standard Deviation: {exam_series.std():.2f}\")\n"
   ]
  },
  {
   "cell_type": "code",
   "execution_count": 2,
   "metadata": {},
   "outputs": [
    {
     "name": "stdout",
     "output_type": "stream",
     "text": [
      "Household Expenses:\n",
      "Groceries          500\n",
      "Utilities          200\n",
      "Rent              1200\n",
      "Transportation     300\n",
      "Entertainment      150\n",
      "Name: Monthly Expenses, dtype: int64\n",
      "\n",
      "Basic Analysis:\n",
      "Total Expenses: $2350.00\n",
      "Average Expense: $470.00\n",
      "Maximum Expense: $1200 (Category: Rent)\n",
      "Minimum Expense: $150 (Category: Entertainment)\n",
      "Percentage of Total by Category:\n",
      "Groceries         21.28\n",
      "Utilities          8.51\n",
      "Rent              51.06\n",
      "Transportation    12.77\n",
      "Entertainment      6.38\n",
      "Name: Monthly Expenses, dtype: float64\n"
     ]
    }
   ],
   "source": [
    "'''Lab2: Suppose you want to track and analyze your household expenses for a month. You have recorded the expenses \n",
    "for various categories, such as groceries, utilities, rent, transportation, and entertainment. \n",
    "You can represent this expense data using a Pandas Series.'''\n",
    "\n",
    "# Input data\n",
    "categories = ['Groceries', 'Utilities', 'Rent', 'Transportation', 'Entertainment']\n",
    "expenses = [500, 200, 1200, 300, 150]\n",
    "\n",
    "# Create a Pandas Series\n",
    "expense_series = pd.Series(expenses, index=categories, name=\"Monthly Expenses\")\n",
    "\n",
    "# Display the Series\n",
    "print(\"Household Expenses:\")\n",
    "print(expense_series)\n",
    "\n",
    "# Basic analysis\n",
    "print(\"\\nBasic Analysis:\")\n",
    "print(f\"Total Expenses: ${expense_series.sum():.2f}\")\n",
    "print(f\"Average Expense: ${expense_series.mean():.2f}\")\n",
    "print(f\"Maximum Expense: ${expense_series.max()} (Category: {expense_series.idxmax()})\")\n",
    "print(f\"Minimum Expense: ${expense_series.min()} (Category: {expense_series.idxmin()})\")\n",
    "print(f\"Percentage of Total by Category:\")\n",
    "print((expense_series / expense_series.sum() * 100).round(2))\n"
   ]
  }
 ],
 "metadata": {
  "kernelspec": {
   "display_name": "Python 3",
   "language": "python",
   "name": "python3"
  },
  "language_info": {
   "codemirror_mode": {
    "name": "ipython",
    "version": 3
   },
   "file_extension": ".py",
   "mimetype": "text/x-python",
   "name": "python",
   "nbconvert_exporter": "python",
   "pygments_lexer": "ipython3",
   "version": "3.11.9"
  }
 },
 "nbformat": 4,
 "nbformat_minor": 2
}
